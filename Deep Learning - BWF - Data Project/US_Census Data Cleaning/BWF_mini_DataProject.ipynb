{
  "nbformat": 4,
  "nbformat_minor": 0,
  "metadata": {
    "colab": {
      "provenance": []
    },
    "kernelspec": {
      "name": "python3",
      "display_name": "Python 3"
    },
    "language_info": {
      "name": "python"
    }
  },
  "cells": [
    {
      "cell_type": "code",
      "execution_count": 13,
      "metadata": {
        "id": "4dXBMfRIsGDc"
      },
      "outputs": [],
      "source": [
        "\n",
        "import pandas as pd\n",
        "import glob\n",
        "import matplotlib.pyplot as plt\n"
      ]
    },
    {
      "cell_type": "code",
      "source": [
        "csv_files=glob.glob('/content/*.csv')\n",
        "csv_files"
      ],
      "metadata": {
        "colab": {
          "base_uri": "https://localhost:8080/"
        },
        "id": "WR8b_RxZsvE6",
        "outputId": "ded76377-9263-483f-990f-0c4c12207989"
      },
      "execution_count": 2,
      "outputs": [
        {
          "output_type": "execute_result",
          "data": {
            "text/plain": [
              "['/content/states6.csv',\n",
              " '/content/states2.csv',\n",
              " '/content/us_census.csv',\n",
              " '/content/states7.csv',\n",
              " '/content/states1.csv',\n",
              " '/content/states0.csv',\n",
              " '/content/states8.csv',\n",
              " '/content/states5.csv',\n",
              " '/content/states4.csv',\n",
              " '/content/states3.csv',\n",
              " '/content/states9.csv']"
            ]
          },
          "metadata": {},
          "execution_count": 2
        }
      ]
    },
    {
      "cell_type": "code",
      "source": [
        "us_census=pd.DataFrame()\n",
        "\n",
        "for file in csv_files:\n",
        "    data_temp=pd.read_csv(file)\n",
        "    us_census=pd.concat([us_census, data_temp], ignore_index=True)\n",
        "\n",
        "us_census.to_csv(\"us_census.csv\", index=False)"
      ],
      "metadata": {
        "id": "dAf8bq5CtHzl"
      },
      "execution_count": 3,
      "outputs": []
    },
    {
      "cell_type": "code",
      "source": [
        "us_census.head()"
      ],
      "metadata": {
        "colab": {
          "base_uri": "https://localhost:8080/",
          "height": 374
        },
        "id": "Y9KewHZWu_h1",
        "outputId": "b6404415-2828-4efc-bccc-e351543fc6a2"
      },
      "execution_count": 4,
      "outputs": [
        {
          "output_type": "execute_result",
          "data": {
            "text/plain": [
              "   Unnamed: 0           State  TotalPop             Hispanic  \\\n",
              "0           0      New Jersey   8904413   18.74950049950049%   \n",
              "1           1      New Mexico   2084117   45.28293172690762%   \n",
              "2           2        New York  19673174  17.241424747786684%   \n",
              "3           3  North Carolina   9845333   8.464762782128062%   \n",
              "4           4    North Dakota    721640   2.832682926829267%   \n",
              "\n",
              "                 White                Black                Native  \\\n",
              "0  56.488761238761285%  14.387862137862117%  0.11533466533466513%   \n",
              "1   40.69799196787147%  1.7550200803212852%    9.248594377510045%   \n",
              "2    56.4701050030883%  15.668046119003515%  0.32163887173152117%   \n",
              "3    64.5976508521419%    21.3951174573929%   1.0854905573468434%   \n",
              "4   87.44829268292683%  1.2843902439024397%    5.651219512195119%   \n",
              "\n",
              "                 Asian                Pacific               Income  \\\n",
              "0   8.159990009990018%  0.031318681318681325%   $76581.08341708542   \n",
              "1    1.23433734939759%   0.04277108433734938%   $47329.96787148595   \n",
              "2  7.8971587399629355%  0.023450689726168417%   $64290.74911292006   \n",
              "3   2.317457392906495%   0.05232611699677568%   $49937.46413697362   \n",
              "4  0.9619512195121945%                    NaN  $58188.112195121954   \n",
              "\n",
              "            GenderPop  \n",
              "0   4343027M_4561386F  \n",
              "1   1032414M_1051703F  \n",
              "2  9541801M_10131373F  \n",
              "3   4795408M_5049925F  \n",
              "4     367963M_353677F  "
            ],
            "text/html": [
              "\n",
              "  <div id=\"df-61d2692c-fe10-4cbc-9891-0fef6165792a\">\n",
              "    <div class=\"colab-df-container\">\n",
              "      <div>\n",
              "<style scoped>\n",
              "    .dataframe tbody tr th:only-of-type {\n",
              "        vertical-align: middle;\n",
              "    }\n",
              "\n",
              "    .dataframe tbody tr th {\n",
              "        vertical-align: top;\n",
              "    }\n",
              "\n",
              "    .dataframe thead th {\n",
              "        text-align: right;\n",
              "    }\n",
              "</style>\n",
              "<table border=\"1\" class=\"dataframe\">\n",
              "  <thead>\n",
              "    <tr style=\"text-align: right;\">\n",
              "      <th></th>\n",
              "      <th>Unnamed: 0</th>\n",
              "      <th>State</th>\n",
              "      <th>TotalPop</th>\n",
              "      <th>Hispanic</th>\n",
              "      <th>White</th>\n",
              "      <th>Black</th>\n",
              "      <th>Native</th>\n",
              "      <th>Asian</th>\n",
              "      <th>Pacific</th>\n",
              "      <th>Income</th>\n",
              "      <th>GenderPop</th>\n",
              "    </tr>\n",
              "  </thead>\n",
              "  <tbody>\n",
              "    <tr>\n",
              "      <th>0</th>\n",
              "      <td>0</td>\n",
              "      <td>New Jersey</td>\n",
              "      <td>8904413</td>\n",
              "      <td>18.74950049950049%</td>\n",
              "      <td>56.488761238761285%</td>\n",
              "      <td>14.387862137862117%</td>\n",
              "      <td>0.11533466533466513%</td>\n",
              "      <td>8.159990009990018%</td>\n",
              "      <td>0.031318681318681325%</td>\n",
              "      <td>$76581.08341708542</td>\n",
              "      <td>4343027M_4561386F</td>\n",
              "    </tr>\n",
              "    <tr>\n",
              "      <th>1</th>\n",
              "      <td>1</td>\n",
              "      <td>New Mexico</td>\n",
              "      <td>2084117</td>\n",
              "      <td>45.28293172690762%</td>\n",
              "      <td>40.69799196787147%</td>\n",
              "      <td>1.7550200803212852%</td>\n",
              "      <td>9.248594377510045%</td>\n",
              "      <td>1.23433734939759%</td>\n",
              "      <td>0.04277108433734938%</td>\n",
              "      <td>$47329.96787148595</td>\n",
              "      <td>1032414M_1051703F</td>\n",
              "    </tr>\n",
              "    <tr>\n",
              "      <th>2</th>\n",
              "      <td>2</td>\n",
              "      <td>New York</td>\n",
              "      <td>19673174</td>\n",
              "      <td>17.241424747786684%</td>\n",
              "      <td>56.4701050030883%</td>\n",
              "      <td>15.668046119003515%</td>\n",
              "      <td>0.32163887173152117%</td>\n",
              "      <td>7.8971587399629355%</td>\n",
              "      <td>0.023450689726168417%</td>\n",
              "      <td>$64290.74911292006</td>\n",
              "      <td>9541801M_10131373F</td>\n",
              "    </tr>\n",
              "    <tr>\n",
              "      <th>3</th>\n",
              "      <td>3</td>\n",
              "      <td>North Carolina</td>\n",
              "      <td>9845333</td>\n",
              "      <td>8.464762782128062%</td>\n",
              "      <td>64.5976508521419%</td>\n",
              "      <td>21.3951174573929%</td>\n",
              "      <td>1.0854905573468434%</td>\n",
              "      <td>2.317457392906495%</td>\n",
              "      <td>0.05232611699677568%</td>\n",
              "      <td>$49937.46413697362</td>\n",
              "      <td>4795408M_5049925F</td>\n",
              "    </tr>\n",
              "    <tr>\n",
              "      <th>4</th>\n",
              "      <td>4</td>\n",
              "      <td>North Dakota</td>\n",
              "      <td>721640</td>\n",
              "      <td>2.832682926829267%</td>\n",
              "      <td>87.44829268292683%</td>\n",
              "      <td>1.2843902439024397%</td>\n",
              "      <td>5.651219512195119%</td>\n",
              "      <td>0.9619512195121945%</td>\n",
              "      <td>NaN</td>\n",
              "      <td>$58188.112195121954</td>\n",
              "      <td>367963M_353677F</td>\n",
              "    </tr>\n",
              "  </tbody>\n",
              "</table>\n",
              "</div>\n",
              "      <button class=\"colab-df-convert\" onclick=\"convertToInteractive('df-61d2692c-fe10-4cbc-9891-0fef6165792a')\"\n",
              "              title=\"Convert this dataframe to an interactive table.\"\n",
              "              style=\"display:none;\">\n",
              "        \n",
              "  <svg xmlns=\"http://www.w3.org/2000/svg\" height=\"24px\"viewBox=\"0 0 24 24\"\n",
              "       width=\"24px\">\n",
              "    <path d=\"M0 0h24v24H0V0z\" fill=\"none\"/>\n",
              "    <path d=\"M18.56 5.44l.94 2.06.94-2.06 2.06-.94-2.06-.94-.94-2.06-.94 2.06-2.06.94zm-11 1L8.5 8.5l.94-2.06 2.06-.94-2.06-.94L8.5 2.5l-.94 2.06-2.06.94zm10 10l.94 2.06.94-2.06 2.06-.94-2.06-.94-.94-2.06-.94 2.06-2.06.94z\"/><path d=\"M17.41 7.96l-1.37-1.37c-.4-.4-.92-.59-1.43-.59-.52 0-1.04.2-1.43.59L10.3 9.45l-7.72 7.72c-.78.78-.78 2.05 0 2.83L4 21.41c.39.39.9.59 1.41.59.51 0 1.02-.2 1.41-.59l7.78-7.78 2.81-2.81c.8-.78.8-2.07 0-2.86zM5.41 20L4 18.59l7.72-7.72 1.47 1.35L5.41 20z\"/>\n",
              "  </svg>\n",
              "      </button>\n",
              "      \n",
              "  <style>\n",
              "    .colab-df-container {\n",
              "      display:flex;\n",
              "      flex-wrap:wrap;\n",
              "      gap: 12px;\n",
              "    }\n",
              "\n",
              "    .colab-df-convert {\n",
              "      background-color: #E8F0FE;\n",
              "      border: none;\n",
              "      border-radius: 50%;\n",
              "      cursor: pointer;\n",
              "      display: none;\n",
              "      fill: #1967D2;\n",
              "      height: 32px;\n",
              "      padding: 0 0 0 0;\n",
              "      width: 32px;\n",
              "    }\n",
              "\n",
              "    .colab-df-convert:hover {\n",
              "      background-color: #E2EBFA;\n",
              "      box-shadow: 0px 1px 2px rgba(60, 64, 67, 0.3), 0px 1px 3px 1px rgba(60, 64, 67, 0.15);\n",
              "      fill: #174EA6;\n",
              "    }\n",
              "\n",
              "    [theme=dark] .colab-df-convert {\n",
              "      background-color: #3B4455;\n",
              "      fill: #D2E3FC;\n",
              "    }\n",
              "\n",
              "    [theme=dark] .colab-df-convert:hover {\n",
              "      background-color: #434B5C;\n",
              "      box-shadow: 0px 1px 3px 1px rgba(0, 0, 0, 0.15);\n",
              "      filter: drop-shadow(0px 1px 2px rgba(0, 0, 0, 0.3));\n",
              "      fill: #FFFFFF;\n",
              "    }\n",
              "  </style>\n",
              "\n",
              "      <script>\n",
              "        const buttonEl =\n",
              "          document.querySelector('#df-61d2692c-fe10-4cbc-9891-0fef6165792a button.colab-df-convert');\n",
              "        buttonEl.style.display =\n",
              "          google.colab.kernel.accessAllowed ? 'block' : 'none';\n",
              "\n",
              "        async function convertToInteractive(key) {\n",
              "          const element = document.querySelector('#df-61d2692c-fe10-4cbc-9891-0fef6165792a');\n",
              "          const dataTable =\n",
              "            await google.colab.kernel.invokeFunction('convertToInteractive',\n",
              "                                                     [key], {});\n",
              "          if (!dataTable) return;\n",
              "\n",
              "          const docLinkHtml = 'Like what you see? Visit the ' +\n",
              "            '<a target=\"_blank\" href=https://colab.research.google.com/notebooks/data_table.ipynb>data table notebook</a>'\n",
              "            + ' to learn more about interactive tables.';\n",
              "          element.innerHTML = '';\n",
              "          dataTable['output_type'] = 'display_data';\n",
              "          await google.colab.output.renderOutput(dataTable, element);\n",
              "          const docLink = document.createElement('div');\n",
              "          docLink.innerHTML = docLinkHtml;\n",
              "          element.appendChild(docLink);\n",
              "        }\n",
              "      </script>\n",
              "    </div>\n",
              "  </div>\n",
              "  "
            ]
          },
          "metadata": {},
          "execution_count": 4
        }
      ]
    },
    {
      "cell_type": "code",
      "source": [
        "us_census.columns"
      ],
      "metadata": {
        "colab": {
          "base_uri": "https://localhost:8080/"
        },
        "id": "PMETsMlPvFuP",
        "outputId": "81f83887-ad23-4cc0-c745-33c4556af37b"
      },
      "execution_count": 5,
      "outputs": [
        {
          "output_type": "execute_result",
          "data": {
            "text/plain": [
              "Index(['Unnamed: 0', 'State', 'TotalPop', 'Hispanic', 'White', 'Black',\n",
              "       'Native', 'Asian', 'Pacific', 'Income', 'GenderPop'],\n",
              "      dtype='object')"
            ]
          },
          "metadata": {},
          "execution_count": 5
        }
      ]
    },
    {
      "cell_type": "code",
      "source": [
        "us_census.dtypes"
      ],
      "metadata": {
        "colab": {
          "base_uri": "https://localhost:8080/"
        },
        "id": "lGVTmCbtvL0i",
        "outputId": "e91372ea-5667-4ee6-ded0-8e6b83294a54"
      },
      "execution_count": 6,
      "outputs": [
        {
          "output_type": "execute_result",
          "data": {
            "text/plain": [
              "Unnamed: 0     int64\n",
              "State         object\n",
              "TotalPop       int64\n",
              "Hispanic      object\n",
              "White         object\n",
              "Black         object\n",
              "Native        object\n",
              "Asian         object\n",
              "Pacific       object\n",
              "Income        object\n",
              "GenderPop     object\n",
              "dtype: object"
            ]
          },
          "metadata": {},
          "execution_count": 6
        }
      ]
    },
    {
      "cell_type": "code",
      "source": [
        "#changing data types\n",
        "us_census2=us_census\n",
        "cols = ['Hispanic', 'White', 'Black', 'Native', 'Asian', 'Pacific']\n",
        "for col in cols:\n",
        "    us_census2[col] = pd.to_numeric(us_census2[col].str.strip('%'), errors='coerce')\n",
        "    us_census2[col] = us_census2[col].fillna(us_census2[col].mean())\n",
        "\n",
        "\n"
      ],
      "metadata": {
        "id": "GkcmBu2Qw09O"
      },
      "execution_count": 7,
      "outputs": []
    },
    {
      "cell_type": "code",
      "source": [
        "#for income\n",
        "us_census2['Income'] = us_census2['Income'].str.replace('$','').astype(float)"
      ],
      "metadata": {
        "colab": {
          "base_uri": "https://localhost:8080/"
        },
        "id": "11uxdMOYyqQf",
        "outputId": "cbf6a8c1-6fb3-4480-d1e8-f8b14a8ed634"
      },
      "execution_count": 8,
      "outputs": [
        {
          "output_type": "stream",
          "name": "stderr",
          "text": [
            "<ipython-input-8-663379684263>:2: FutureWarning: The default value of regex will change from True to False in a future version. In addition, single character regular expressions will *not* be treated as literal strings when regex=True.\n",
            "  us_census2['Income'] = us_census2['Income'].str.replace('$','').astype(float)\n"
          ]
        }
      ]
    },
    {
      "cell_type": "code",
      "source": [
        "us_census2.dtypes"
      ],
      "metadata": {
        "colab": {
          "base_uri": "https://localhost:8080/"
        },
        "id": "zOTNGyw5xNGD",
        "outputId": "0ca34829-cae5-4e2b-ca96-f5fef624dece"
      },
      "execution_count": 9,
      "outputs": [
        {
          "output_type": "execute_result",
          "data": {
            "text/plain": [
              "Unnamed: 0      int64\n",
              "State          object\n",
              "TotalPop        int64\n",
              "Hispanic      float64\n",
              "White         float64\n",
              "Black         float64\n",
              "Native        float64\n",
              "Asian         float64\n",
              "Pacific       float64\n",
              "Income        float64\n",
              "GenderPop      object\n",
              "dtype: object"
            ]
          },
          "metadata": {},
          "execution_count": 9
        }
      ]
    },
    {
      "cell_type": "code",
      "source": [
        "#splitting GenderPop into male and female columns\n",
        "us_census2[['Male','Female']] = us_census2.GenderPop.str.split('_', expand=True)\n"
      ],
      "metadata": {
        "id": "2OlekhMDzASN"
      },
      "execution_count": 10,
      "outputs": []
    },
    {
      "cell_type": "code",
      "source": [
        "# convert Male, Female columns to numerical data types\n",
        "us_census2['Male'] = pd.to_numeric(us_census2['Male'].str.replace('[^0-9]', ''))\n",
        "us_census2['Female'] = pd.to_numeric(us_census2['Female'].str.replace('[^0-9]', ''))"
      ],
      "metadata": {
        "colab": {
          "base_uri": "https://localhost:8080/"
        },
        "id": "3KwC8sZwzdq0",
        "outputId": "9b999946-2893-4d52-f4b5-4ae9136e3748"
      },
      "execution_count": 11,
      "outputs": [
        {
          "output_type": "stream",
          "name": "stderr",
          "text": [
            "<ipython-input-11-6ee4303be3d8>:2: FutureWarning: The default value of regex will change from True to False in a future version.\n",
            "  us_census2['Male'] = pd.to_numeric(us_census2['Male'].str.replace('[^0-9]', ''))\n",
            "<ipython-input-11-6ee4303be3d8>:3: FutureWarning: The default value of regex will change from True to False in a future version.\n",
            "  us_census2['Female'] = pd.to_numeric(us_census2['Female'].str.replace('[^0-9]', ''))\n"
          ]
        }
      ]
    },
    {
      "cell_type": "code",
      "source": [
        "us_census2.head()"
      ],
      "metadata": {
        "colab": {
          "base_uri": "https://localhost:8080/",
          "height": 374
        },
        "id": "EGaR3FOL0V88",
        "outputId": "eda9fbb9-3975-4283-8219-5cf6fb0b14fe"
      },
      "execution_count": 12,
      "outputs": [
        {
          "output_type": "execute_result",
          "data": {
            "text/plain": [
              "   Unnamed: 0           State  TotalPop   Hispanic      White      Black  \\\n",
              "0           0      New Jersey   8904413  18.749500  56.488761  14.387862   \n",
              "1           1      New Mexico   2084117  45.282932  40.697992   1.755020   \n",
              "2           2        New York  19673174  17.241425  56.470105  15.668046   \n",
              "3           3  North Carolina   9845333   8.464763  64.597651  21.395117   \n",
              "4           4    North Dakota    721640   2.832683  87.448293   1.284390   \n",
              "\n",
              "     Native     Asian   Pacific        Income           GenderPop     Male  \\\n",
              "0  0.115335  8.159990  0.031319  76581.083417   4343027M_4561386F  4343027   \n",
              "1  9.248594  1.234337  0.042771  47329.967871   1032414M_1051703F  1032414   \n",
              "2  0.321639  7.897159  0.023451  64290.749113  9541801M_10131373F  9541801   \n",
              "3  1.085491  2.317457  0.052326  49937.464137   4795408M_5049925F  4795408   \n",
              "4  5.651220  0.961951  0.282927  58188.112195     367963M_353677F   367963   \n",
              "\n",
              "       Female  \n",
              "0   4561386.0  \n",
              "1   1051703.0  \n",
              "2  10131373.0  \n",
              "3   5049925.0  \n",
              "4    353677.0  "
            ],
            "text/html": [
              "\n",
              "  <div id=\"df-8317885b-1671-4dbc-a25b-6c4fb3a017f8\">\n",
              "    <div class=\"colab-df-container\">\n",
              "      <div>\n",
              "<style scoped>\n",
              "    .dataframe tbody tr th:only-of-type {\n",
              "        vertical-align: middle;\n",
              "    }\n",
              "\n",
              "    .dataframe tbody tr th {\n",
              "        vertical-align: top;\n",
              "    }\n",
              "\n",
              "    .dataframe thead th {\n",
              "        text-align: right;\n",
              "    }\n",
              "</style>\n",
              "<table border=\"1\" class=\"dataframe\">\n",
              "  <thead>\n",
              "    <tr style=\"text-align: right;\">\n",
              "      <th></th>\n",
              "      <th>Unnamed: 0</th>\n",
              "      <th>State</th>\n",
              "      <th>TotalPop</th>\n",
              "      <th>Hispanic</th>\n",
              "      <th>White</th>\n",
              "      <th>Black</th>\n",
              "      <th>Native</th>\n",
              "      <th>Asian</th>\n",
              "      <th>Pacific</th>\n",
              "      <th>Income</th>\n",
              "      <th>GenderPop</th>\n",
              "      <th>Male</th>\n",
              "      <th>Female</th>\n",
              "    </tr>\n",
              "  </thead>\n",
              "  <tbody>\n",
              "    <tr>\n",
              "      <th>0</th>\n",
              "      <td>0</td>\n",
              "      <td>New Jersey</td>\n",
              "      <td>8904413</td>\n",
              "      <td>18.749500</td>\n",
              "      <td>56.488761</td>\n",
              "      <td>14.387862</td>\n",
              "      <td>0.115335</td>\n",
              "      <td>8.159990</td>\n",
              "      <td>0.031319</td>\n",
              "      <td>76581.083417</td>\n",
              "      <td>4343027M_4561386F</td>\n",
              "      <td>4343027</td>\n",
              "      <td>4561386.0</td>\n",
              "    </tr>\n",
              "    <tr>\n",
              "      <th>1</th>\n",
              "      <td>1</td>\n",
              "      <td>New Mexico</td>\n",
              "      <td>2084117</td>\n",
              "      <td>45.282932</td>\n",
              "      <td>40.697992</td>\n",
              "      <td>1.755020</td>\n",
              "      <td>9.248594</td>\n",
              "      <td>1.234337</td>\n",
              "      <td>0.042771</td>\n",
              "      <td>47329.967871</td>\n",
              "      <td>1032414M_1051703F</td>\n",
              "      <td>1032414</td>\n",
              "      <td>1051703.0</td>\n",
              "    </tr>\n",
              "    <tr>\n",
              "      <th>2</th>\n",
              "      <td>2</td>\n",
              "      <td>New York</td>\n",
              "      <td>19673174</td>\n",
              "      <td>17.241425</td>\n",
              "      <td>56.470105</td>\n",
              "      <td>15.668046</td>\n",
              "      <td>0.321639</td>\n",
              "      <td>7.897159</td>\n",
              "      <td>0.023451</td>\n",
              "      <td>64290.749113</td>\n",
              "      <td>9541801M_10131373F</td>\n",
              "      <td>9541801</td>\n",
              "      <td>10131373.0</td>\n",
              "    </tr>\n",
              "    <tr>\n",
              "      <th>3</th>\n",
              "      <td>3</td>\n",
              "      <td>North Carolina</td>\n",
              "      <td>9845333</td>\n",
              "      <td>8.464763</td>\n",
              "      <td>64.597651</td>\n",
              "      <td>21.395117</td>\n",
              "      <td>1.085491</td>\n",
              "      <td>2.317457</td>\n",
              "      <td>0.052326</td>\n",
              "      <td>49937.464137</td>\n",
              "      <td>4795408M_5049925F</td>\n",
              "      <td>4795408</td>\n",
              "      <td>5049925.0</td>\n",
              "    </tr>\n",
              "    <tr>\n",
              "      <th>4</th>\n",
              "      <td>4</td>\n",
              "      <td>North Dakota</td>\n",
              "      <td>721640</td>\n",
              "      <td>2.832683</td>\n",
              "      <td>87.448293</td>\n",
              "      <td>1.284390</td>\n",
              "      <td>5.651220</td>\n",
              "      <td>0.961951</td>\n",
              "      <td>0.282927</td>\n",
              "      <td>58188.112195</td>\n",
              "      <td>367963M_353677F</td>\n",
              "      <td>367963</td>\n",
              "      <td>353677.0</td>\n",
              "    </tr>\n",
              "  </tbody>\n",
              "</table>\n",
              "</div>\n",
              "      <button class=\"colab-df-convert\" onclick=\"convertToInteractive('df-8317885b-1671-4dbc-a25b-6c4fb3a017f8')\"\n",
              "              title=\"Convert this dataframe to an interactive table.\"\n",
              "              style=\"display:none;\">\n",
              "        \n",
              "  <svg xmlns=\"http://www.w3.org/2000/svg\" height=\"24px\"viewBox=\"0 0 24 24\"\n",
              "       width=\"24px\">\n",
              "    <path d=\"M0 0h24v24H0V0z\" fill=\"none\"/>\n",
              "    <path d=\"M18.56 5.44l.94 2.06.94-2.06 2.06-.94-2.06-.94-.94-2.06-.94 2.06-2.06.94zm-11 1L8.5 8.5l.94-2.06 2.06-.94-2.06-.94L8.5 2.5l-.94 2.06-2.06.94zm10 10l.94 2.06.94-2.06 2.06-.94-2.06-.94-.94-2.06-.94 2.06-2.06.94z\"/><path d=\"M17.41 7.96l-1.37-1.37c-.4-.4-.92-.59-1.43-.59-.52 0-1.04.2-1.43.59L10.3 9.45l-7.72 7.72c-.78.78-.78 2.05 0 2.83L4 21.41c.39.39.9.59 1.41.59.51 0 1.02-.2 1.41-.59l7.78-7.78 2.81-2.81c.8-.78.8-2.07 0-2.86zM5.41 20L4 18.59l7.72-7.72 1.47 1.35L5.41 20z\"/>\n",
              "  </svg>\n",
              "      </button>\n",
              "      \n",
              "  <style>\n",
              "    .colab-df-container {\n",
              "      display:flex;\n",
              "      flex-wrap:wrap;\n",
              "      gap: 12px;\n",
              "    }\n",
              "\n",
              "    .colab-df-convert {\n",
              "      background-color: #E8F0FE;\n",
              "      border: none;\n",
              "      border-radius: 50%;\n",
              "      cursor: pointer;\n",
              "      display: none;\n",
              "      fill: #1967D2;\n",
              "      height: 32px;\n",
              "      padding: 0 0 0 0;\n",
              "      width: 32px;\n",
              "    }\n",
              "\n",
              "    .colab-df-convert:hover {\n",
              "      background-color: #E2EBFA;\n",
              "      box-shadow: 0px 1px 2px rgba(60, 64, 67, 0.3), 0px 1px 3px 1px rgba(60, 64, 67, 0.15);\n",
              "      fill: #174EA6;\n",
              "    }\n",
              "\n",
              "    [theme=dark] .colab-df-convert {\n",
              "      background-color: #3B4455;\n",
              "      fill: #D2E3FC;\n",
              "    }\n",
              "\n",
              "    [theme=dark] .colab-df-convert:hover {\n",
              "      background-color: #434B5C;\n",
              "      box-shadow: 0px 1px 3px 1px rgba(0, 0, 0, 0.15);\n",
              "      filter: drop-shadow(0px 1px 2px rgba(0, 0, 0, 0.3));\n",
              "      fill: #FFFFFF;\n",
              "    }\n",
              "  </style>\n",
              "\n",
              "      <script>\n",
              "        const buttonEl =\n",
              "          document.querySelector('#df-8317885b-1671-4dbc-a25b-6c4fb3a017f8 button.colab-df-convert');\n",
              "        buttonEl.style.display =\n",
              "          google.colab.kernel.accessAllowed ? 'block' : 'none';\n",
              "\n",
              "        async function convertToInteractive(key) {\n",
              "          const element = document.querySelector('#df-8317885b-1671-4dbc-a25b-6c4fb3a017f8');\n",
              "          const dataTable =\n",
              "            await google.colab.kernel.invokeFunction('convertToInteractive',\n",
              "                                                     [key], {});\n",
              "          if (!dataTable) return;\n",
              "\n",
              "          const docLinkHtml = 'Like what you see? Visit the ' +\n",
              "            '<a target=\"_blank\" href=https://colab.research.google.com/notebooks/data_table.ipynb>data table notebook</a>'\n",
              "            + ' to learn more about interactive tables.';\n",
              "          element.innerHTML = '';\n",
              "          dataTable['output_type'] = 'display_data';\n",
              "          await google.colab.output.renderOutput(dataTable, element);\n",
              "          const docLink = document.createElement('div');\n",
              "          docLink.innerHTML = docLinkHtml;\n",
              "          element.appendChild(docLink);\n",
              "        }\n",
              "      </script>\n",
              "    </div>\n",
              "  </div>\n",
              "  "
            ]
          },
          "metadata": {},
          "execution_count": 12
        }
      ]
    },
    {
      "cell_type": "code",
      "source": [
        "us_census2['Female'] = us_census2['Female'].fillna(us_census2['TotalPop'] - us_census2['Male'])\n"
      ],
      "metadata": {
        "id": "0opiXyS15HMZ"
      },
      "execution_count": 15,
      "outputs": []
    },
    {
      "cell_type": "code",
      "source": [
        "us_census2['Female'].isnull().any()"
      ],
      "metadata": {
        "colab": {
          "base_uri": "https://localhost:8080/"
        },
        "id": "BEYIpkog5eeQ",
        "outputId": "59ca8214-0b59-4bea-9b73-d89050fce359"
      },
      "execution_count": 18,
      "outputs": [
        {
          "output_type": "execute_result",
          "data": {
            "text/plain": [
              "False"
            ]
          },
          "metadata": {},
          "execution_count": 18
        }
      ]
    },
    {
      "cell_type": "code",
      "source": [
        "us_census2.duplicated().any()\n"
      ],
      "metadata": {
        "colab": {
          "base_uri": "https://localhost:8080/"
        },
        "id": "KADxBxJe5oTw",
        "outputId": "2906151c-ee4d-48e2-e3bc-1e7d30915dba"
      },
      "execution_count": 19,
      "outputs": [
        {
          "output_type": "execute_result",
          "data": {
            "text/plain": [
              "True"
            ]
          },
          "metadata": {},
          "execution_count": 19
        }
      ]
    },
    {
      "cell_type": "code",
      "source": [
        "us_census2.drop_duplicates(inplace=True)\n"
      ],
      "metadata": {
        "id": "JditVZwB8SSf"
      },
      "execution_count": 20,
      "outputs": []
    },
    {
      "cell_type": "code",
      "source": [
        "plt.hist(us_census['Hispanic'], bins=10, range=[0, 100])\n",
        "plt.title('Hispanic Population Distribution')\n",
        "plt.xlabel('Percentage of Population')\n",
        "plt.ylabel('Frequency')\n",
        "plt.show()"
      ],
      "metadata": {
        "colab": {
          "base_uri": "https://localhost:8080/",
          "height": 472
        },
        "id": "0jRVij659yrt",
        "outputId": "d946e581-eb08-41a6-c6ab-bcffb04c3275"
      },
      "execution_count": 21,
      "outputs": [
        {
          "output_type": "display_data",
          "data": {
            "text/plain": [
              "<Figure size 640x480 with 1 Axes>"
            ],
            "image/png": "[encoded data removed]"
          },
          "metadata": {}
        }
      ]
    },
    {
      "cell_type": "code",
      "source": [
        "plt.hist(us_census['White'], bins=10, range=[0, 100])\n",
        "plt.title('White Population Distribution')\n",
        "plt.xlabel('Percentage of Population')\n",
        "plt.ylabel('Frequency')\n",
        "plt.show()"
      ],
      "metadata": {
        "colab": {
          "base_uri": "https://localhost:8080/",
          "height": 472
        },
        "id": "rTFh7np693Nq",
        "outputId": "5c92c6be-fe75-41f4-847a-6788742dcf87"
      },
      "execution_count": 22,
      "outputs": [
        {
          "output_type": "display_data",
          "data": {
            "text/plain": [
              "<Figure size 640x480 with 1 Axes>"
            ],
            "image/png": "[encoded data removed]"
          },
          "metadata": {}
        }
      ]
    },
    {
      "cell_type": "code",
      "source": [
        "plt.hist(us_census['Black'], bins=10, range=[0, 100])\n",
        "plt.title('Black Population Distribution')\n",
        "plt.xlabel('Percentage of Population')\n",
        "plt.ylabel('Frequency')\n",
        "plt.show()"
      ],
      "metadata": {
        "colab": {
          "base_uri": "https://localhost:8080/",
          "height": 472
        },
        "id": "g_oH2SSO9-25",
        "outputId": "3599b698-0211-444c-ab7a-60358868ecac"
      },
      "execution_count": 23,
      "outputs": [
        {
          "output_type": "display_data",
          "data": {
            "text/plain": [
              "<Figure size 640x480 with 1 Axes>"
            ],
            "image/png": "[encoded data removed]"
          },
          "metadata": {}
        }
      ]
    },
    {
      "cell_type": "code",
      "source": [
        "plt.hist(us_census['Native'], bins=10, range=[0, 100])\n",
        "plt.title('Native Population Distribution')\n",
        "plt.xlabel('Percentage of Population')\n",
        "plt.ylabel('Frequency')\n",
        "plt.show()"
      ],
      "metadata": {
        "colab": {
          "base_uri": "https://localhost:8080/",
          "height": 472
        },
        "id": "MT5D3USd-DHp",
        "outputId": "7601d68e-e97f-405d-f3e1-177eae43a897"
      },
      "execution_count": 24,
      "outputs": [
        {
          "output_type": "display_data",
          "data": {
            "text/plain": [
              "<Figure size 640x480 with 1 Axes>"
            ],
            "image/png": "[encoded data removed]"
          },
          "metadata": {}
        }
      ]
    },
    {
      "cell_type": "code",
      "source": [
        "plt.hist(us_census['Asian'], bins=10, range=[0, 100])\n",
        "plt.title('Asian Population Distribution')\n",
        "plt.xlabel('Percentage of Population')\n",
        "plt.ylabel('Frequency')\n",
        "plt.show()"
      ],
      "metadata": {
        "colab": {
          "base_uri": "https://localhost:8080/",
          "height": 472
        },
        "id": "8k9bGwH8-GxE",
        "outputId": "9a4970ba-e43c-4dca-de82-e97d2f3ebd4e"
      },
      "execution_count": 25,
      "outputs": [
        {
          "output_type": "display_data",
          "data": {
            "text/plain": [
              "<Figure size 640x480 with 1 Axes>"
            ],
            "image/png": "[encoded data removed]"
          },
          "metadata": {}
        }
      ]
    },
    {
      "cell_type": "code",
      "source": [
        "plt.hist(us_census['Pacific'], bins=10, range=[0, 100])\n",
        "plt.title('Pacific Population Distribution')\n",
        "plt.xlabel('Percentage of Population')\n",
        "plt.ylabel('Frequency')\n",
        "plt.show()"
      ],
      "metadata": {
        "colab": {
          "base_uri": "https://localhost:8080/",
          "height": 472
        },
        "id": "Xu5XhjgV-Iiy",
        "outputId": "3545847b-f83e-4d12-a279-2d577b70f047"
      },
      "execution_count": 26,
      "outputs": [
        {
          "output_type": "display_data",
          "data": {
            "text/plain": [
              "<Figure size 640x480 with 1 Axes>"
            ],
            "image/png": "[encoded data removed]"
          },
          "metadata": {}
        }
      ]
    },
    {
      "cell_type": "code",
      "source": [],
      "metadata": {
        "id": "KcwzrYrS-MEm"
      },
      "execution_count": null,
      "outputs": []
    }
  ]
}